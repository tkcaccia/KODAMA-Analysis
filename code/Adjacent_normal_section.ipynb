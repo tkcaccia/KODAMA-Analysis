{
 "cells": [
  {
   "cell_type": "code",
   "execution_count": 104,
   "id": "9ad6aeb3-671b-4acf-8614-5b84d6c9b998",
   "metadata": {},
   "outputs": [],
   "source": [
    "import numpy as np\n",
    "import matplotlib.pyplot as plt\n",
    "import matplotlib.patches as patches\n",
    "from shapely.geometry import Point, shape\n",
    "import geopandas as gpd\n",
    "from spatialdata_io import visium\n",
    "from spatialdata_io import visium_hd\n",
    "import pandas as pd\n",
    "import spatialdata as sd\n",
    "from pathlib import Path"
   ]
  },
  {
   "cell_type": "code",
   "execution_count": 105,
   "id": "07517fa6-733f-4ca0-8fd3-f6b7e0e14b5e",
   "metadata": {},
   "outputs": [
    {
     "name": "stdout",
     "output_type": "stream",
     "text": [
      "\u001b[34mINFO    \u001b[0m reading                                                                                                   \n",
      "         \u001b[35m/home/user/Documents/Prostate/Adjacent_normal_section/outs/\u001b[0m\u001b[95mVisium_FFPE_Human_Prostate_IF_filtered_feature_\u001b[0m\n",
      "         \u001b[95mbc_matrix.h5\u001b[0m                                                                                              \n"
     ]
    },
    {
     "name": "stderr",
     "output_type": "stream",
     "text": [
      "/home/user/miniconda3/lib/python3.12/site-packages/anndata/_core/anndata.py:1820: UserWarning: Variable names are not unique. To make them unique, call `.var_names_make_unique`.\n",
      "  utils.warn_names_duplicates(\"var\")\n",
      "/home/user/miniconda3/lib/python3.12/site-packages/anndata/_core/anndata.py:1820: UserWarning: Variable names are not unique. To make them unique, call `.var_names_make_unique`.\n",
      "  utils.warn_names_duplicates(\"var\")\n",
      "/home/user/miniconda3/lib/python3.12/site-packages/spatialdata/models/models.py:996: UserWarning: Converting `region_key: region` to categorical dtype.\n",
      "  return convert_region_column_to_categorical(adata)\n"
     ]
    }
   ],
   "source": [
    "sdata = visium('/home/user/Documents/Prostate/Adjacent_normal_section/outs/')"
   ]
  },
  {
   "cell_type": "code",
   "execution_count": 106,
   "id": "953184fb-b003-4dc7-b4e4-08c916599627",
   "metadata": {
    "scrolled": true
   },
   "outputs": [
    {
     "name": "stdout",
     "output_type": "stream",
     "text": [
      "SpatialData object\n",
      "├── Images\n",
      "│     ├── 'Visium_FFPE_Human_Prostate_IF_hires_image': DataArray[cyx] (3, 1885, 2000)\n",
      "│     └── 'Visium_FFPE_Human_Prostate_IF_lowres_image': DataArray[cyx] (3, 566, 600)\n",
      "├── Shapes\n",
      "│     └── 'Visium_FFPE_Human_Prostate_IF': GeoDataFrame shape: (3460, 2) (2D shapes)\n",
      "└── Tables\n",
      "      └── 'table': AnnData (3460, 17943)\n",
      "with coordinate systems:\n",
      "    ▸ 'downscaled_hires', with elements:\n",
      "        Visium_FFPE_Human_Prostate_IF_hires_image (Images), Visium_FFPE_Human_Prostate_IF (Shapes)\n",
      "    ▸ 'downscaled_lowres', with elements:\n",
      "        Visium_FFPE_Human_Prostate_IF_lowres_image (Images), Visium_FFPE_Human_Prostate_IF (Shapes)\n",
      "    ▸ 'global', with elements:\n",
      "        Visium_FFPE_Human_Prostate_IF (Shapes)\n"
     ]
    }
   ],
   "source": [
    "print(sdata)"
   ]
  },
  {
   "cell_type": "code",
   "execution_count": 107,
   "id": "b2206cf3-1913-488f-8ee3-89311aece81e",
   "metadata": {},
   "outputs": [],
   "source": [
    "shapes = sdata.shapes[\"Visium_FFPE_Human_Prostate_IF\"]"
   ]
  },
  {
   "cell_type": "code",
   "execution_count": 108,
   "id": "09176a3a-c056-4846-a73f-5267906cb5e9",
   "metadata": {},
   "outputs": [
    {
     "name": "stderr",
     "output_type": "stream",
     "text": [
      "/tmp/ipykernel_101365/2770236539.py:5: DeprecationWarning: The 'unary_union' attribute is deprecated, use the 'union_all()' method instead.\n",
      "  mask_geometry = geojson_data.unary_union  # Assuming the mask is a single unified geometry\n"
     ]
    }
   ],
   "source": [
    "points_df = pd.DataFrame(shapes.geometry.apply(lambda geom: geom.coords[0]).tolist(), columns=['x', 'y'])\n",
    "# Load the GeoJSON file\n",
    "geojson_path = r'/home/user/Desktop/Adjacent_normal_IF.geojson'  # Replace with your actual path to the GeoJSON file\n",
    "geojson_data = gpd.read_file(geojson_path)\n",
    "mask_geometry = geojson_data.unary_union  # Assuming the mask is a single unified geometry"
   ]
  },
  {
   "cell_type": "code",
   "execution_count": 109,
   "id": "dcdf1b33-c117-46f7-9952-581bce660dce",
   "metadata": {},
   "outputs": [
    {
     "name": "stdout",
     "output_type": "stream",
     "text": [
      "Number of spots within the mask: 2570\n",
      "            x        y\n",
      "0     19976.0  16300.0\n",
      "1     11415.0   4439.0\n",
      "3     18814.0   7214.0\n",
      "4      6486.0  14536.0\n",
      "5      7066.0  15546.0\n",
      "...       ...      ...\n",
      "3454  11271.0   9235.0\n",
      "3455  14463.0   9739.0\n",
      "3457   9533.0  18826.0\n",
      "3458   9097.0  15040.0\n",
      "3459  12576.0   5449.0\n",
      "\n",
      "[2570 rows x 2 columns]\n"
     ]
    },
    {
     "data": {
      "text/plain": [
       "<matplotlib.collections.PathCollection at 0x7a4f33c95040>"
      ]
     },
     "execution_count": 109,
     "metadata": {},
     "output_type": "execute_result"
    },
    {
     "data": {
      "image/png": "[encoded data removed]",
      "text/plain": [
       "<Figure size 640x480 with 1 Axes>"
      ]
     },
     "metadata": {},
     "output_type": "display_data"
    }
   ],
   "source": [
    "# Determine which spots are within the mask\n",
    "points_within_mask = points_df.apply(lambda row: mask_geometry.contains(Point(row['x'], row['y'])), axis=1)\n",
    "spots_in_mask = points_df[points_within_mask]\n",
    "\n",
    "print(f\"Number of spots within the mask: {spots_in_mask.shape[0]}\")\n",
    "print(spots_in_mask)\n",
    "\n",
    "# Load the low-resolution image\n",
    "lowres_image = sdata.images[\"Visium_FFPE_Human_Prostate_IF_lowres_image\"]\n",
    "image = lowres_image.values.transpose((1, 2, 0))\n",
    "x_min, y_min, x_max, y_max = shapes.total_bounds\n",
    "\n",
    "# Plot the image and overlay the points and mask\n",
    "fig, ax = plt.subplots()\n",
    "ax.imshow(image)\n",
    "\n",
    "# Plot the spots\n",
    "ax.scatter(points_df['x'], points_df['y'], c='red', s=1, label='All Spots')\n",
    "ax.scatter(spots_in_mask['x'], spots_in_mask['y'], c='blue', s=1, label='Spots in Mask')\n",
    "\n",
    "## Plot the mask (GeoJSON geometry)\n",
    "#for geom in geojson_data.geometry:\n",
    "#    if geom.geom_type == 'Polygon':\n",
    "#        x, y = geom.exterior.xy\n",
    "#        ax.plot(x, y, color='green', linewidth=1, label='Mask')\n",
    "#    elif geom.geom_type == 'MultiPolygon':\n",
    "#        for poly in geom:\n",
    "#            x, y = poly.exterior.xy\n",
    "#            ax.plot(x, y, color='green', linewidth=1, label='Mask')\n",
    "\n",
    "#plt.legend()\n",
    "#plt.show()"
   ]
  },
  {
   "cell_type": "code",
   "execution_count": 110,
   "id": "a781185e-f94a-4954-bd08-5fd221fac94f",
   "metadata": {},
   "outputs": [],
   "source": [
    "points_df = shapes[['geometry']].copy()\n",
    "points_df['x'] = points_df.geometry.apply(lambda p: p.x)\n",
    "points_df['y'] = points_df.geometry.apply(lambda p: p.y)\n",
    "points_df['spot_id'] = points_df.index"
   ]
  },
  {
   "cell_type": "code",
   "execution_count": 111,
   "id": "53ed2d3f-028f-4b58-bde3-9c64a8d533a9",
   "metadata": {},
   "outputs": [],
   "source": [
    "# Determine which spots are within the mask\n",
    "points_within_mask = points_df.apply(lambda row: mask_geometry.contains(Point(row['x'], row['y'])), axis=1)\n",
    "spots_in_mask = points_df[points_within_mask]"
   ]
  },
  {
   "cell_type": "code",
   "execution_count": 112,
   "id": "17f8444f-c04c-4299-9447-c5de4b7e0f30",
   "metadata": {},
   "outputs": [
    {
     "name": "stdout",
     "output_type": "stream",
     "text": [
      "                    in_tissue  array_row  array_col  spot_id  \\\n",
      "AAACAAGTATCTCCCA-1          1         50        102        0   \n",
      "AAACAATCTACTAGCA-1          1          3         43        1   \n",
      "AAACACCAATAACTGC-1          1         59         19        2   \n",
      "\n",
      "                                           region  \n",
      "AAACAAGTATCTCCCA-1  Visium_FFPE_Human_Prostate_IF  \n",
      "AAACAATCTACTAGCA-1  Visium_FFPE_Human_Prostate_IF  \n",
      "AAACACCAATAACTGC-1  Visium_FFPE_Human_Prostate_IF  \n"
     ]
    }
   ],
   "source": [
    "print(sdata[\"table\"].obs.head(3))"
   ]
  },
  {
   "cell_type": "code",
   "execution_count": 113,
   "id": "6db0b098-c5b6-45de-b272-ad5dbb2250b8",
   "metadata": {},
   "outputs": [],
   "source": [
    "# Load the gene expression data\n",
    "expression_data = sdata[\"table\"]"
   ]
  },
  {
   "cell_type": "code",
   "execution_count": 114,
   "id": "5dcbab61-b587-438b-90e0-8f485d199964",
   "metadata": {},
   "outputs": [
    {
     "name": "stderr",
     "output_type": "stream",
     "text": [
      "/home/user/miniconda3/lib/python3.12/site-packages/geopandas/geodataframe.py:1819: SettingWithCopyWarning: \n",
      "A value is trying to be set on a copy of a slice from a DataFrame.\n",
      "Try using .loc[row_indexer,col_indexer] = value instead\n",
      "\n",
      "See the caveats in the documentation: https://pandas.pydata.org/pandas-docs/stable/user_guide/indexing.html#returning-a-view-versus-a-copy\n",
      "  super().__setitem__(key, value)\n",
      "/tmp/ipykernel_101365/588894863.py:22: UserWarning: CRS mismatch between the CRS of left geometries and the CRS of right geometries.\n",
      "Use `to_crs()` to reproject one of the input geometries to match the CRS of the other.\n",
      "\n",
      "Left CRS: None\n",
      "Right CRS: EPSG:4326\n",
      "\n",
      "  spots_with_classification = gpd.sjoin(spots_in_mask_gdf, classifications, how=\"inner\", predicate='intersects')\n"
     ]
    }
   ],
   "source": [
    "# Map the spot indices in mask to gene expression data\n",
    "spot_indices_in_mask = spots_in_mask.index\n",
    "expression_data_in_mask = expression_data[spot_indices_in_mask, :]\n",
    "\n",
    "# Create DataFrame for gene expression data\n",
    "expression_df = pd.DataFrame(expression_data_in_mask.X.toarray(), index=expression_data_in_mask.obs_names, columns=expression_data_in_mask.var_names)\n",
    "\n",
    "# Add sequences (barcodes) to spots_in_mask\n",
    "spots_in_mask.loc[:, 'sequence'] = expression_data.obs_names[spot_indices_in_mask]\n",
    "\n",
    "# Extract classifications from GeoJSON data\n",
    "classifications = geojson_data[['geometry', 'classification']]  # Assuming 'classification' is the relevant field\n",
    "\n",
    "# Merge classifications with spots data\n",
    "spots_in_mask_gdf = gpd.GeoDataFrame(spots_in_mask, geometry=gpd.points_from_xy(spots_in_mask.x, spots_in_mask.y))\n",
    "\n",
    "# Ensure there are no conflicting column names before the join\n",
    "spots_in_mask_gdf = spots_in_mask_gdf.rename(columns={'spot_id': 'spot_id_left'})\n",
    "classifications = classifications.rename(columns={'spot_id': 'spot_id_right'})\n",
    "\n",
    "# Perform spatial join\n",
    "spots_with_classification = gpd.sjoin(spots_in_mask_gdf, classifications, how=\"inner\", predicate='intersects')\n",
    "\n",
    "# Select relevant columns and rename spot_id to sequence\n",
    "spots_with_classification = spots_with_classification[['sequence', 'classification']]\n"
   ]
  },
  {
   "cell_type": "code",
   "execution_count": 115,
   "id": "c5c01a85-6b9e-4a1c-a56a-82576c647e2b",
   "metadata": {},
   "outputs": [],
   "source": [
    "# Save to CSV\n",
    "output_csv_path = r'/home/user/Desktop/spots_classification_IF.csv'  # Replace with your desired output path\n",
    "spots_with_classification.to_csv(output_csv_path, index=False)"
   ]
  },
  {
   "cell_type": "code",
   "execution_count": null,
   "id": "f5c8cb3d-ff8d-47ff-9b9c-93464df42be7",
   "metadata": {},
   "outputs": [],
   "source": []
  }
 ],
 "metadata": {
  "kernelspec": {
   "display_name": "Python 3 (ipykernel)",
   "language": "python",
   "name": "python3"
  },
  "language_info": {
   "codemirror_mode": {
    "name": "ipython",
    "version": 3
   },
   "file_extension": ".py",
   "mimetype": "text/x-python",
   "name": "python",
   "nbconvert_exporter": "python",
   "pygments_lexer": "ipython3",
   "version": "3.12.2"
  }
 },
 "nbformat": 4,
 "nbformat_minor": 5
}
