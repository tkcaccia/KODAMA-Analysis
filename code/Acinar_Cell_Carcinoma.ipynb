{
 "cells": [
  {
   "cell_type": "code",
   "execution_count": 1,
   "id": "985cad52-2cc1-46f5-a7a6-7fe5aa3dbb7d",
   "metadata": {},
   "outputs": [],
   "source": [
    "import numpy as np\n",
    "import matplotlib.pyplot as plt\n",
    "import matplotlib.patches as patches\n",
    "from shapely.geometry import Point, shape\n",
    "import geopandas as gpd\n",
    "from spatialdata_io import visium\n",
    "from spatialdata_io import visium_hd\n",
    "import pandas as pd\n",
    "import spatialdata as sd\n",
    "from pathlib import Path"
   ]
  },
  {
   "cell_type": "code",
   "execution_count": 2,
   "id": "fb6a14f1-cf03-4ef0-b2dd-2cd66a1c1ae0",
   "metadata": {},
   "outputs": [
    {
     "name": "stdout",
     "output_type": "stream",
     "text": [
      "\u001b[34mINFO    \u001b[0m reading                                                                                                   \n",
      "         \u001b[35m/home/user/Documents/Prostate/Acinar_Cell_Carcinoma/outs/\u001b[0m\u001b[95mVisium_FFPE_Human_Prostate_Acinar_Cell_Carcinoma_\u001b[0m\n",
      "         \u001b[95mfiltered_feature_bc_matrix.h5\u001b[0m                                                                             \n"
     ]
    },
    {
     "name": "stderr",
     "output_type": "stream",
     "text": [
      "/home/user/miniconda3/lib/python3.12/site-packages/anndata/_core/anndata.py:1820: UserWarning: Variable names are not unique. To make them unique, call `.var_names_make_unique`.\n",
      "  utils.warn_names_duplicates(\"var\")\n",
      "/home/user/miniconda3/lib/python3.12/site-packages/anndata/_core/anndata.py:1820: UserWarning: Variable names are not unique. To make them unique, call `.var_names_make_unique`.\n",
      "  utils.warn_names_duplicates(\"var\")\n",
      "/home/user/miniconda3/lib/python3.12/site-packages/spatialdata/models/models.py:996: UserWarning: Converting `region_key: region` to categorical dtype.\n",
      "  return convert_region_column_to_categorical(adata)\n"
     ]
    }
   ],
   "source": [
    "sdata = visium('/home/user/Documents/Prostate/Acinar_Cell_Carcinoma/outs/')"
   ]
  },
  {
   "cell_type": "code",
   "execution_count": 3,
   "id": "78e567b0-3ba0-468d-aeff-f2d988f78512",
   "metadata": {},
   "outputs": [
    {
     "name": "stdout",
     "output_type": "stream",
     "text": [
      "SpatialData object\n",
      "├── Images\n",
      "│     ├── 'Visium_FFPE_Human_Prostate_Acinar_Cell_Carcinoma_hires_image': DataArray[cyx] (3, 1834, 2000)\n",
      "│     └── 'Visium_FFPE_Human_Prostate_Acinar_Cell_Carcinoma_lowres_image': DataArray[cyx] (3, 550, 600)\n",
      "├── Shapes\n",
      "│     └── 'Visium_FFPE_Human_Prostate_Acinar_Cell_Carcinoma': GeoDataFrame shape: (3043, 2) (2D shapes)\n",
      "└── Tables\n",
      "      └── 'table': AnnData (3043, 17943)\n",
      "with coordinate systems:\n",
      "    ▸ 'downscaled_hires', with elements:\n",
      "        Visium_FFPE_Human_Prostate_Acinar_Cell_Carcinoma_hires_image (Images), Visium_FFPE_Human_Prostate_Acinar_Cell_Carcinoma (Shapes)\n",
      "    ▸ 'downscaled_lowres', with elements:\n",
      "        Visium_FFPE_Human_Prostate_Acinar_Cell_Carcinoma_lowres_image (Images), Visium_FFPE_Human_Prostate_Acinar_Cell_Carcinoma (Shapes)\n",
      "    ▸ 'global', with elements:\n",
      "        Visium_FFPE_Human_Prostate_Acinar_Cell_Carcinoma (Shapes)\n"
     ]
    }
   ],
   "source": [
    "print(sdata)"
   ]
  },
  {
   "cell_type": "code",
   "execution_count": 5,
   "id": "f1373b95-3965-4f4d-985e-7b89c0ae7d9d",
   "metadata": {},
   "outputs": [],
   "source": [
    "shapes = sdata.shapes[\"Visium_FFPE_Human_Prostate_Acinar_Cell_Carcinoma\"]"
   ]
  },
  {
   "cell_type": "code",
   "execution_count": 14,
   "id": "74b40629-9401-4d81-a2f0-f104874523d5",
   "metadata": {},
   "outputs": [
    {
     "name": "stderr",
     "output_type": "stream",
     "text": [
      "/tmp/ipykernel_135873/2664298263.py:5: DeprecationWarning: The 'unary_union' attribute is deprecated, use the 'union_all()' method instead.\n",
      "  mask_geometry = geojson_data.unary_union  # Assuming the mask is a single unified geometry\n"
     ]
    }
   ],
   "source": [
    "points_df = pd.DataFrame(shapes.geometry.apply(lambda geom: geom.coords[0]).tolist(), columns=['x', 'y'])\n",
    "# Load the GeoJSON file\n",
    "geojson_path = r'/home/user/Desktop/Acinar_Cell_Carcinoma.geojson'  # Replace with your actual path to the GeoJSON file\n",
    "geojson_data = gpd.read_file(geojson_path)\n",
    "mask_geometry = geojson_data.unary_union  # Assuming the mask is a single unified geometry"
   ]
  },
  {
   "cell_type": "code",
   "execution_count": 15,
   "id": "9dd5bed1-41e0-4e0e-8774-c9b4a67023bb",
   "metadata": {},
   "outputs": [
    {
     "name": "stdout",
     "output_type": "stream",
     "text": [
      "Number of spots within the mask: 299\n",
      "            x        y\n",
      "14    18484.0   3757.0\n",
      "30    13235.0  14859.0\n",
      "41    18761.0  10325.0\n",
      "44    18191.0   5272.0\n",
      "45     9895.0  15610.0\n",
      "...       ...      ...\n",
      "2998  11634.0  17129.0\n",
      "3010   9318.0  14093.0\n",
      "3011  11513.0   5763.0\n",
      "3027  13095.0  12586.0\n",
      "3036  14407.0   9810.0\n",
      "\n",
      "[299 rows x 2 columns]\n"
     ]
    },
    {
     "data": {
      "text/plain": [
       "<matplotlib.collections.PathCollection at 0x720678f36e10>"
      ]
     },
     "execution_count": 15,
     "metadata": {},
     "output_type": "execute_result"
    },
    {
     "data": {
      "image/png": "[encoded data removed]",
      "text/plain": [
       "<Figure size 640x480 with 1 Axes>"
      ]
     },
     "metadata": {},
     "output_type": "display_data"
    }
   ],
   "source": [
    "# Determine which spots are within the mask\n",
    "points_within_mask = points_df.apply(lambda row: mask_geometry.contains(Point(row['x'], row['y'])), axis=1)\n",
    "spots_in_mask = points_df[points_within_mask]\n",
    "\n",
    "print(f\"Number of spots within the mask: {spots_in_mask.shape[0]}\")\n",
    "print(spots_in_mask)\n",
    "\n",
    "# Load the low-resolution image\n",
    "lowres_image = sdata.images[\"Visium_FFPE_Human_Prostate_Acinar_Cell_Carcinoma_lowres_image\"]\n",
    "image = lowres_image.values.transpose((1, 2, 0))\n",
    "x_min, y_min, x_max, y_max = shapes.total_bounds\n",
    "\n",
    "# Plot the image and overlay the points and mask\n",
    "fig, ax = plt.subplots()\n",
    "ax.imshow(image)\n",
    "\n",
    "# Plot the spots\n",
    "ax.scatter(points_df['x'], points_df['y'], c='red', s=1, label='All Spots')\n",
    "ax.scatter(spots_in_mask['x'], spots_in_mask['y'], c='blue', s=1, label='Spots in Mask')\n",
    "\n",
    "## Plot the mask (GeoJSON geometry)\n",
    "#for geom in geojson_data.geometry:\n",
    "#    if geom.geom_type == 'Polygon':\n",
    "#        x, y = geom.exterior.xy\n",
    "#        ax.plot(x, y, color='green', linewidth=1, label='Mask')\n",
    "#    elif geom.geom_type == 'MultiPolygon':\n",
    "#        for poly in geom:\n",
    "#            x, y = poly.exterior.xy\n",
    "#            ax.plot(x, y, color='green', linewidth=1, label='Mask')\n",
    "\n",
    "#plt.legend()\n",
    "#plt.show()"
   ]
  },
  {
   "cell_type": "code",
   "execution_count": 16,
   "id": "a06d8daf-a126-4df3-a2fe-f786dc6f6074",
   "metadata": {},
   "outputs": [],
   "source": [
    "points_df = shapes[['geometry']].copy()\n",
    "points_df['x'] = points_df.geometry.apply(lambda p: p.x)\n",
    "points_df['y'] = points_df.geometry.apply(lambda p: p.y)\n",
    "points_df['spot_id'] = points_df.index"
   ]
  },
  {
   "cell_type": "code",
   "execution_count": 17,
   "id": "e7c184c5-03bf-4f9a-b833-282ab5b575e1",
   "metadata": {},
   "outputs": [],
   "source": [
    "# Determine which spots are within the mask\n",
    "points_within_mask = points_df.apply(lambda row: mask_geometry.contains(Point(row['x'], row['y'])), axis=1)\n",
    "spots_in_mask = points_df[points_within_mask]"
   ]
  },
  {
   "cell_type": "code",
   "execution_count": 18,
   "id": "e6f69083-d68b-4ada-93fb-a879b8fd92bd",
   "metadata": {},
   "outputs": [],
   "source": [
    "# Load the gene expression data\n",
    "expression_data = sdata[\"table\"]"
   ]
  },
  {
   "cell_type": "code",
   "execution_count": 19,
   "id": "92f4010a-a16e-4b19-b9dd-cc44da37e628",
   "metadata": {},
   "outputs": [
    {
     "name": "stderr",
     "output_type": "stream",
     "text": [
      "/home/user/miniconda3/lib/python3.12/site-packages/geopandas/geodataframe.py:1819: SettingWithCopyWarning: \n",
      "A value is trying to be set on a copy of a slice from a DataFrame.\n",
      "Try using .loc[row_indexer,col_indexer] = value instead\n",
      "\n",
      "See the caveats in the documentation: https://pandas.pydata.org/pandas-docs/stable/user_guide/indexing.html#returning-a-view-versus-a-copy\n",
      "  super().__setitem__(key, value)\n",
      "/tmp/ipykernel_135873/588894863.py:22: UserWarning: CRS mismatch between the CRS of left geometries and the CRS of right geometries.\n",
      "Use `to_crs()` to reproject one of the input geometries to match the CRS of the other.\n",
      "\n",
      "Left CRS: None\n",
      "Right CRS: EPSG:4326\n",
      "\n",
      "  spots_with_classification = gpd.sjoin(spots_in_mask_gdf, classifications, how=\"inner\", predicate='intersects')\n"
     ]
    }
   ],
   "source": [
    "# Map the spot indices in mask to gene expression data\n",
    "spot_indices_in_mask = spots_in_mask.index\n",
    "expression_data_in_mask = expression_data[spot_indices_in_mask, :]\n",
    "\n",
    "# Create DataFrame for gene expression data\n",
    "expression_df = pd.DataFrame(expression_data_in_mask.X.toarray(), index=expression_data_in_mask.obs_names, columns=expression_data_in_mask.var_names)\n",
    "\n",
    "# Add sequences (barcodes) to spots_in_mask\n",
    "spots_in_mask.loc[:, 'sequence'] = expression_data.obs_names[spot_indices_in_mask]\n",
    "\n",
    "# Extract classifications from GeoJSON data\n",
    "classifications = geojson_data[['geometry', 'classification']]  # Assuming 'classification' is the relevant field\n",
    "\n",
    "# Merge classifications with spots data\n",
    "spots_in_mask_gdf = gpd.GeoDataFrame(spots_in_mask, geometry=gpd.points_from_xy(spots_in_mask.x, spots_in_mask.y))\n",
    "\n",
    "# Ensure there are no conflicting column names before the join\n",
    "spots_in_mask_gdf = spots_in_mask_gdf.rename(columns={'spot_id': 'spot_id_left'})\n",
    "classifications = classifications.rename(columns={'spot_id': 'spot_id_right'})\n",
    "\n",
    "# Perform spatial join\n",
    "spots_with_classification = gpd.sjoin(spots_in_mask_gdf, classifications, how=\"inner\", predicate='intersects')\n",
    "\n",
    "# Select relevant columns and rename spot_id to sequence\n",
    "spots_with_classification = spots_with_classification[['sequence', 'classification']]\n"
   ]
  },
  {
   "cell_type": "code",
   "execution_count": 20,
   "id": "af8951fd-2508-4258-9461-e7c0300631a2",
   "metadata": {},
   "outputs": [],
   "source": [
    "# Save to CSV\n",
    "output_csv_path = r'/home/user/Desktop/spots_classification_Acinar_Cell_Carcinoma.csv'  # Replace with your desired output path\n",
    "spots_with_classification.to_csv(output_csv_path, index=False)"
   ]
  },
  {
   "cell_type": "code",
   "execution_count": null,
   "id": "cd7f1978-f196-4dae-8def-7a34034529d6",
   "metadata": {},
   "outputs": [],
   "source": []
  }
 ],
 "metadata": {
  "kernelspec": {
   "display_name": "Python 3 (ipykernel)",
   "language": "python",
   "name": "python3"
  },
  "language_info": {
   "codemirror_mode": {
    "name": "ipython",
    "version": 3
   },
   "file_extension": ".py",
   "mimetype": "text/x-python",
   "name": "python",
   "nbconvert_exporter": "python",
   "pygments_lexer": "ipython3",
   "version": "3.12.2"
  }
 },
 "nbformat": 4,
 "nbformat_minor": 5
}
