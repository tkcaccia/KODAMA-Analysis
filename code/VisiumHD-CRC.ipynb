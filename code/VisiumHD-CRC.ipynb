{
 "cells": [
  {
   "cell_type": "code",
   "execution_count": 1,
   "id": "15d0e2d3-fc27-4f27-8c61-449fa453ef17",
   "metadata": {},
   "outputs": [],
   "source": [
    "import numpy as np\n",
    "import matplotlib.pyplot as plt\n",
    "import matplotlib.patches as patches\n",
    "from shapely.geometry import Point, shape\n",
    "import geopandas as gpd\n",
    "from spatialdata_io import visium\n",
    "from spatialdata_io import visium_hd\n",
    "import pandas as pd\n",
    "import spatialdata as sd\n",
    "from pathlib import Path"
   ]
  },
  {
   "cell_type": "code",
   "execution_count": 2,
   "id": "18c10eb2-bfe3-42f8-9050-6717633b2fc4",
   "metadata": {
    "collapsed": true,
    "jupyter": {
     "outputs_hidden": true
    }
   },
   "outputs": [
    {
     "name": "stderr",
     "output_type": "stream",
     "text": [
      "/home/user/miniconda3/lib/python3.12/site-packages/anndata/_core/anndata.py:1820: UserWarning: Variable names are not unique. To make them unique, call `.var_names_make_unique`.\n",
      "  utils.warn_names_duplicates(\"var\")\n",
      "/home/user/miniconda3/lib/python3.12/site-packages/anndata/_core/anndata.py:1820: UserWarning: Variable names are not unique. To make them unique, call `.var_names_make_unique`.\n",
      "  utils.warn_names_duplicates(\"var\")\n",
      "/home/user/miniconda3/lib/python3.12/site-packages/anndata/_core/anndata.py:1820: UserWarning: Variable names are not unique. To make them unique, call `.var_names_make_unique`.\n",
      "  utils.warn_names_duplicates(\"var\")\n"
     ]
    }
   ],
   "source": [
    "sdata = visium_hd('/home/user/Documents/KODAMA/VisiumHD-CRC/Data')"
   ]
  },
  {
   "cell_type": "code",
   "execution_count": 3,
   "id": "fb99822a-b4cc-4b50-b359-2e6f2f5ddcbe",
   "metadata": {},
   "outputs": [],
   "source": [
    "shapes = sdata.shapes[\"Visium_HD_Human_Colon_Cancer_square_008um\"]"
   ]
  },
  {
   "cell_type": "code",
   "execution_count": 4,
   "id": "032f7840-ddbf-416e-8d40-0204867f5d90",
   "metadata": {},
   "outputs": [
    {
     "name": "stderr",
     "output_type": "stream",
     "text": [
      "/tmp/ipykernel_84817/1795863629.py:5: DeprecationWarning: The 'unary_union' attribute is deprecated, use the 'union_all()' method instead.\n",
      "  mask_geometry = geojson_data.unary_union  # Assuming the mask is a single unified geometry\n"
     ]
    }
   ],
   "source": [
    "points_df = pd.DataFrame(shapes.geometry.apply(lambda geom: geom.coords[0]).tolist(), columns=['x', 'y'])\n",
    "# Load the GeoJSON file\n",
    "geojson_path = r'/home/user/Desktop/Visium_HD_Human_Colon_Cancer_tissue_image.ome.tiff - 20x_BF_01.geojson'  # Replace with your actual path to the GeoJSON file\n",
    "geojson_data = gpd.read_file(geojson_path)\n",
    "mask_geometry = geojson_data.unary_union  # Assuming the mask is a single unified geometry"
   ]
  },
  {
   "cell_type": "code",
   "execution_count": 5,
   "id": "0c43fc53-d4ea-4100-a04a-80a4d695bb84",
   "metadata": {},
   "outputs": [
    {
     "name": "stdout",
     "output_type": "stream",
     "text": [
      "Number of spots within the mask: 380266\n",
      "                   x             y\n",
      "0       50098.445998  13700.157336\n",
      "1       49309.780167   7118.678456\n",
      "3       48775.953916  18736.554443\n",
      "4       56952.853796  21066.834141\n",
      "6       52775.069798   7806.721445\n",
      "...              ...           ...\n",
      "545905  56027.954958   6915.081697\n",
      "545906  59344.661303  16861.521629\n",
      "545908  52999.305514  15170.099858\n",
      "545909  63913.248435  11458.705512\n",
      "545911  54673.240558  12241.908095\n",
      "\n",
      "[380266 rows x 2 columns]\n"
     ]
    },
    {
     "data": {
      "text/plain": [
       "<matplotlib.collections.PathCollection at 0x78e014bdf2c0>"
      ]
     },
     "execution_count": 5,
     "metadata": {},
     "output_type": "execute_result"
    },
    {
     "data": {
      "image/png": "[encoded data removed]",
      "text/plain": [
       "<Figure size 640x480 with 1 Axes>"
      ]
     },
     "metadata": {},
     "output_type": "display_data"
    }
   ],
   "source": [
    "# Determine which spots are within the mask\n",
    "points_within_mask = points_df.apply(lambda row: mask_geometry.contains(Point(row['x'], row['y'])), axis=1)\n",
    "spots_in_mask = points_df[points_within_mask]\n",
    "\n",
    "print(f\"Number of spots within the mask: {spots_in_mask.shape[0]}\")\n",
    "print(spots_in_mask)\n",
    "\n",
    "# Load the low-resolution image\n",
    "lowres_image = sdata.images[\"Visium_HD_Human_Colon_Cancer_lowres_image\"]\n",
    "image = lowres_image.values.transpose((1, 2, 0))\n",
    "x_min, y_min, x_max, y_max = shapes.total_bounds\n",
    "\n",
    "# Plot the image and overlay the points and mask\n",
    "fig, ax = plt.subplots()\n",
    "ax.imshow(image)\n",
    "\n",
    "# Plot the spots\n",
    "ax.scatter(points_df['x'], points_df['y'], c='red', s=1, label='All Spots')\n",
    "ax.scatter(spots_in_mask['x'], spots_in_mask['y'], c='blue', s=1, label='Spots in Mask')\n",
    "\n",
    "## Plot the mask (GeoJSON geometry)\n",
    "#for geom in geojson_data.geometry:\n",
    "#    if geom.geom_type == 'Polygon':\n",
    "#        x, y = geom.exterior.xy\n",
    "#        ax.plot(x, y, color='green', linewidth=1, label='Mask')\n",
    "#    elif geom.geom_type == 'MultiPolygon':\n",
    "#        for poly in geom:\n",
    "#            x, y = poly.exterior.xy\n",
    "#            ax.plot(x, y, color='green', linewidth=1, label='Mask')\n",
    "\n",
    "#plt.legend()\n",
    "#plt.show()"
   ]
  },
  {
   "cell_type": "code",
   "execution_count": 6,
   "id": "b1a65071-219f-4f11-ba07-f41a4d28af1c",
   "metadata": {},
   "outputs": [],
   "source": [
    "points_df = shapes[['geometry']].copy()\n",
    "points_df['x'] = points_df.geometry.apply(lambda p: p.x)\n",
    "points_df['y'] = points_df.geometry.apply(lambda p: p.y)\n",
    "points_df['spot_id'] = points_df.index"
   ]
  },
  {
   "cell_type": "code",
   "execution_count": 7,
   "id": "e9356d19-3139-4901-85dc-635eb6d63d0c",
   "metadata": {},
   "outputs": [],
   "source": [
    "# Determine which spots are within the mask\n",
    "points_within_mask = points_df.apply(lambda row: mask_geometry.contains(Point(row['x'], row['y'])), axis=1)\n",
    "spots_in_mask = points_df[points_within_mask]"
   ]
  },
  {
   "cell_type": "code",
   "execution_count": 8,
   "id": "70f2defb-3069-4cb1-b1f7-c76cd0db2565",
   "metadata": {},
   "outputs": [],
   "source": [
    "# Load the gene expression data\n",
    "expression_data = sdata.tables[\"square_008um\"]"
   ]
  },
  {
   "cell_type": "code",
   "execution_count": 9,
   "id": "4a8fd57e-371a-4514-8a48-4704eb7f5966",
   "metadata": {},
   "outputs": [
    {
     "name": "stderr",
     "output_type": "stream",
     "text": [
      "/home/user/miniconda3/lib/python3.12/site-packages/geopandas/geodataframe.py:1819: SettingWithCopyWarning: \n",
      "A value is trying to be set on a copy of a slice from a DataFrame.\n",
      "Try using .loc[row_indexer,col_indexer] = value instead\n",
      "\n",
      "See the caveats in the documentation: https://pandas.pydata.org/pandas-docs/stable/user_guide/indexing.html#returning-a-view-versus-a-copy\n",
      "  super().__setitem__(key, value)\n",
      "/tmp/ipykernel_84817/2950633244.py:22: UserWarning: CRS mismatch between the CRS of left geometries and the CRS of right geometries.\n",
      "Use `to_crs()` to reproject one of the input geometries to match the CRS of the other.\n",
      "\n",
      "Left CRS: None\n",
      "Right CRS: EPSG:4326\n",
      "\n",
      "  spots_with_classification = gpd.sjoin(spots_in_mask_gdf, classifications, how=\"inner\", predicate='intersects')\n"
     ]
    }
   ],
   "source": [
    "# Map the spot indices in mask to gene expression data\n",
    "spot_indices_in_mask = spots_in_mask.index\n",
    "expression_data_in_mask = expression_data[spot_indices_in_mask, :]\n",
    "\n",
    "# Create DataFrame for gene expression data\n",
    "expression_df = pd.DataFrame(expression_data_in_mask.X.toarray(), index=expression_data_in_mask.obs_names, columns=expression_data_in_mask.var_names)\n",
    "\n",
    "# Add sequences (barcodes) to spots_in_mask\n",
    "spots_in_mask.loc[:, 'sequence'] = expression_data.obs_names[spot_indices_in_mask]\n",
    "\n",
    "# Extract classifications from GeoJSON data\n",
    "classifications = geojson_data[['geometry', 'classification']]  # Assuming 'classification' is the relevant field\n",
    "\n",
    "# Merge classifications with spots data\n",
    "spots_in_mask_gdf = gpd.GeoDataFrame(spots_in_mask, geometry=gpd.points_from_xy(spots_in_mask.x, spots_in_mask.y))\n",
    "\n",
    "# Ensure there are no conflicting column names before the join\n",
    "spots_in_mask_gdf = spots_in_mask_gdf.rename(columns={'spot_id': 'spot_id_left'})\n",
    "classifications = classifications.rename(columns={'spot_id': 'spot_id_right'})\n",
    "\n",
    "# Perform spatial join\n",
    "spots_with_classification = gpd.sjoin(spots_in_mask_gdf, classifications, how=\"inner\", predicate='intersects')\n",
    "\n",
    "# Select relevant columns and rename spot_id to sequence\n",
    "spots_with_classification = spots_with_classification[['sequence', 'classification']]"
   ]
  },
  {
   "cell_type": "code",
   "execution_count": 10,
   "id": "57368638-8bd2-45e3-be42-cdb1554f619f",
   "metadata": {},
   "outputs": [],
   "source": [
    "# Save to CSV\n",
    "output_csv_path = r'/home/user/Desktop/spots_classification_ALL.csv'  # Replace with your desired output path\n",
    "spots_with_classification.to_csv(output_csv_path, index=False)"
   ]
  },
  {
   "cell_type": "code",
   "execution_count": null,
   "id": "687b84e8-27c0-4616-8f49-973764e867a3",
   "metadata": {},
   "outputs": [],
   "source": []
  }
 ],
 "metadata": {
  "kernelspec": {
   "display_name": "Python 3 (ipykernel)",
   "language": "python",
   "name": "python3"
  },
  "language_info": {
   "codemirror_mode": {
    "name": "ipython",
    "version": 3
   },
   "file_extension": ".py",
   "mimetype": "text/x-python",
   "name": "python",
   "nbconvert_exporter": "python",
   "pygments_lexer": "ipython3",
   "version": "3.12.2"
  }
 },
 "nbformat": 4,
 "nbformat_minor": 5
}
